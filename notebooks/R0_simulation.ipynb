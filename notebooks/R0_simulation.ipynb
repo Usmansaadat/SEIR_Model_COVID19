{
 "cells": [
  {
   "cell_type": "code",
   "execution_count": 6,
   "metadata": {},
   "outputs": [
    {
     "data": {
      "image/png": "[encoded data removed]",
      "text/plain": [
       "<Figure size 432x288 with 1 Axes>"
      ]
     },
     "metadata": {
      "needs_background": "light"
     },
     "output_type": "display_data"
    }
   ],
   "source": [
    "import sys\n",
    "!{sys.executable} -m pip install --user --quiet pandas>=1.0.3 matplotlib scipy numpy\n",
    "import numpy as np\n",
    "import scipy as sc\n",
    "from scipy.integrate import odeint\n",
    "from scipy import interpolate\n",
    "import matplotlib.pyplot as plt\n",
    "from scipy.optimize import minimize\n",
    "import pandas as pd\n",
    "col_list = [\"Week\",\"Rt_indicator\"]\n",
    "df = pd.read_csv(\"data/USA_Covi.csv\")\n",
    "df.head()\n",
    "\n",
    "x = df[\"Week\"]\n",
    "y =  df[\"Average of RtIndicator\"]\n",
    "#xnew = np.linspace(0, 10, num=41, endpoint=True)\n",
    "#a_BSpline = sc.interpolate.make_interp_spline(x, y)\n",
    "#y_new = a_BSpline(x_new)\n",
    "\n",
    "fig = plt.figure()\n",
    "plt.plot(x, y, 'b')\n",
    "plt.xlabel('Week # of year')\n",
    "#plt.xticks(rotation=90)\n",
    "plt.ylabel('Rt')\n",
    "plt.title('Change in basic Reproduction Number over time')\n",
    "plt.show()\n",
    "fig.savefig('R0_Simulation.pdf')\n",
    "\n"
   ]
  },
  {
   "cell_type": "code",
   "execution_count": 13,
   "metadata": {},
   "outputs": [],
   "source": []
  },
  {
   "cell_type": "code",
   "execution_count": 32,
   "metadata": {},
   "outputs": [
    {
     "data": {
      "text/html": [
       "<div>\n",
       "<style scoped>\n",
       "    .dataframe tbody tr th:only-of-type {\n",
       "        vertical-align: middle;\n",
       "    }\n",
       "\n",
       "    .dataframe tbody tr th {\n",
       "        vertical-align: top;\n",
       "    }\n",
       "\n",
       "    .dataframe thead th {\n",
       "        text-align: right;\n",
       "    }\n",
       "</style>\n",
       "<table border=\"1\" class=\"dataframe\">\n",
       "  <thead>\n",
       "    <tr style=\"text-align: right;\">\n",
       "      <th></th>\n",
       "      <th>date</th>\n",
       "      <th>Months</th>\n",
       "      <th>Week</th>\n",
       "      <th>Average of RtIndicator</th>\n",
       "    </tr>\n",
       "  </thead>\n",
       "  <tbody>\n",
       "    <tr>\n",
       "      <th>0</th>\n",
       "      <td>3/3/2020</td>\n",
       "      <td>March</td>\n",
       "      <td>10</td>\n",
       "      <td>1.761393</td>\n",
       "    </tr>\n",
       "    <tr>\n",
       "      <th>1</th>\n",
       "      <td>3/4/2020</td>\n",
       "      <td>March</td>\n",
       "      <td>10</td>\n",
       "      <td>1.762168</td>\n",
       "    </tr>\n",
       "    <tr>\n",
       "      <th>2</th>\n",
       "      <td>3/5/2020</td>\n",
       "      <td>March</td>\n",
       "      <td>10</td>\n",
       "      <td>1.769515</td>\n",
       "    </tr>\n",
       "    <tr>\n",
       "      <th>3</th>\n",
       "      <td>3/6/2020</td>\n",
       "      <td>March</td>\n",
       "      <td>10</td>\n",
       "      <td>1.854136</td>\n",
       "    </tr>\n",
       "    <tr>\n",
       "      <th>4</th>\n",
       "      <td>3/7/2020</td>\n",
       "      <td>March</td>\n",
       "      <td>10</td>\n",
       "      <td>1.850681</td>\n",
       "    </tr>\n",
       "  </tbody>\n",
       "</table>\n",
       "</div>"
      ],
      "text/plain": [
       "       date Months  Week  Average of RtIndicator\n",
       "0  3/3/2020  March    10                1.761393\n",
       "1  3/4/2020  March    10                1.762168\n",
       "2  3/5/2020  March    10                1.769515\n",
       "3  3/6/2020  March    10                1.854136\n",
       "4  3/7/2020  March    10                1.850681"
      ]
     },
     "execution_count": 32,
     "metadata": {},
     "output_type": "execute_result"
    }
   ],
   "source": []
  },
  {
   "cell_type": "code",
   "execution_count": 43,
   "metadata": {},
   "outputs": [
    {
     "data": {
      "image/png": "[encoded data removed]",
      "text/plain": [
       "<Figure size 432x288 with 1 Axes>"
      ]
     },
     "metadata": {
      "needs_background": "light"
     },
     "output_type": "display_data"
    }
   ],
   "source": []
  },
  {
   "cell_type": "code",
   "execution_count": null,
   "metadata": {},
   "outputs": [],
   "source": []
  }
 ],
 "metadata": {
  "kernelspec": {
   "display_name": "Python 3",
   "language": "python",
   "name": "python3"
  },
  "language_info": {
   "codemirror_mode": {
    "name": "ipython",
    "version": 3
   },
   "file_extension": ".py",
   "mimetype": "text/x-python",
   "name": "python",
   "nbconvert_exporter": "python",
   "pygments_lexer": "ipython3",
   "version": "3.7.6"
  }
 },
 "nbformat": 4,
 "nbformat_minor": 4
}
