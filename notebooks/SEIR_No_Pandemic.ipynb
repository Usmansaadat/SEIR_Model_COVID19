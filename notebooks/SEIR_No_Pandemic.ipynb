{
 "cells": [
  {
   "cell_type": "code",
   "execution_count": 3,
   "metadata": {},
   "outputs": [
    {
     "data": {
      "image/png": "[encoded data removed]",
      "text/plain": [
       "<Figure size 432x288 with 1 Axes>"
      ]
     },
     "metadata": {},
     "output_type": "display_data"
    }
   ],
   "source": [
    "import numpy as np\n",
    "from scipy.integrate import odeint\n",
    "import matplotlib.pyplot as plt\n",
    "\n",
    "# Total population, N.\n",
    "N = 11000000\n",
    "# Initial number of infected and recovered individuals, I0 and R0.\n",
    "I0, E0, R0 = 1,1, 0\n",
    "# Everyone else, S0, is susceptible to infection initially.\n",
    "S0 = N - (E0 + I0 + R0)\n",
    "# Serial Interval and mean latent/Incubation Period\n",
    "SI, DE = 8.4, 6\n",
    "#Infectious period\n",
    "DI = SI - DE\n",
    "#Basic Reproduction number\n",
    "R_0 = 0.95\n",
    "# Contact rate, beta, and mean recovery rate, gamma, (in 1/days).\n",
    "gamma, sigma= 1/DI, 1/DE\n",
    "beta =  gamma*R_0\n",
    "#mortality rate of infected individuals\n",
    "mu = 0.049\n",
    "#Zoonotic force of infection\n",
    "Z = 86\n",
    "Inbound_travellers, Outbound_travellers = (3546 + (487310 + 810500)), (3633 + (502013 + 717226))   \n",
    "# A grid of time points (in days)\n",
    "t = np.linspace(0, 200, 200)\n",
    "\n",
    "# The SEIR model differential equations.\n",
    "def deriv(y, t, N, beta,sigma, gamma):\n",
    "    S, E, I, R = y\n",
    "    dSdt = - (beta*I + Z) * S / N + Inbound_travellers/N - Outbound_travellers/N \n",
    "    dEdt = (beta*I + Z) * S / N - sigma*E - Outbound_travellers/N\n",
    "    dIdt = sigma*E - gamma*I - mu * I - Outbound_travellers/N\n",
    "    dRdt = gamma * I + mu * I - Outbound_travellers/N\n",
    "    return dSdt, dEdt, dIdt, dRdt\n",
    "\n",
    "# Initial conditions vector\n",
    "y0 = S0, E0, I0, R0\n",
    "# Integrate the SEIR equations over the time grid, t.\n",
    "ret = odeint(deriv, y0, t, args=(N, beta,sigma, gamma))\n",
    "S, E, I, R = ret.T\n",
    "\n",
    "# Plot the data on three separate curves for S(t), E(t), I(t) and R(t)\n",
    "fig = plt.figure(facecolor='w')\n",
    "ax = fig.add_subplot(111, facecolor='#dddddd', axisbelow=True)\n",
    "ax.plot(t, S/1000000, 'b', alpha=0.5, lw=2, label='Susceptible')\n",
    "ax.plot(t, E/1000000, 'm', alpha=0.5, lw=2, label='Exposed')\n",
    "ax.plot(t, I/1000000, 'r', alpha=0.5, lw=2, label='Infected')\n",
    "ax.plot(t, R/1000000, 'g', alpha=0.5, lw=2, label='Removed')\n",
    "ax.set_xlabel('Time /days')\n",
    "ax.set_ylabel('Population (Millions)')\n",
    "ax.set_ylim(0,12)\n",
    "ax.yaxis.set_tick_params(length=0)\n",
    "ax.xaxis.set_tick_params(length=0)\n",
    "ax.grid(b=True, which='major', c='w', lw=2, ls='-')\n",
    "legend = ax.legend()\n",
    "legend.get_frame().set_alpha(0.5)\n",
    "for spine in ('top', 'right', 'bottom', 'left'):\n",
    "    ax.spines[spine].set_visible(False)\n",
    "plt.show()\n",
    "fig.savefig('SEIR_full.pdf')"
   ]
  },
  {
   "cell_type": "code",
   "execution_count": null,
   "metadata": {},
   "outputs": [],
   "source": []
  }
 ],
 "metadata": {
  "kernelspec": {
   "display_name": "Python 3",
   "language": "python",
   "name": "python3"
  },
  "language_info": {
   "codemirror_mode": {
    "name": "ipython",
    "version": 3
   },
   "file_extension": ".py",
   "mimetype": "text/x-python",
   "name": "python",
   "nbconvert_exporter": "python",
   "pygments_lexer": "ipython3",
   "version": "3.7.6"
  }
 },
 "nbformat": 4,
 "nbformat_minor": 4
}
